{
 "cells": [
  {
   "cell_type": "markdown",
   "metadata": {},
   "source": [
    "# TRABALHO 2 - Metaheuristics (VNS)"
   ]
  },
  {
   "cell_type": "markdown",
   "metadata": {},
   "source": [
    "## Alunos:\n",
    "- **Claudia Oliveira**\n",
    "- **Matheus Oliveira**"
   ]
  },
  {
   "cell_type": "markdown",
   "metadata": {},
   "source": [
    "# SETUP"
   ]
  },
  {
   "cell_type": "code",
   "execution_count": 1,
   "metadata": {},
   "outputs": [],
   "source": [
    "import numpy as np\n",
    "import copy\n",
    "import pandas as pd\n",
    "import random"
   ]
  },
  {
   "cell_type": "code",
   "execution_count": 2,
   "metadata": {},
   "outputs": [],
   "source": [
    "import warnings\n",
    "warnings.filterwarnings('ignore')"
   ]
  },
  {
   "cell_type": "code",
   "execution_count": 3,
   "metadata": {},
   "outputs": [],
   "source": [
    "dataset = pd.read_csv('sonar.all-data.csv', sep=',', header=None)\n",
    "labels = dataset[60]\n",
    "data = dataset.drop([60], axis=1)"
   ]
  },
  {
   "cell_type": "markdown",
   "metadata": {},
   "source": [
    "# NORMALIZAÇÃO"
   ]
  },
  {
   "cell_type": "code",
   "execution_count": 85,
   "metadata": {},
   "outputs": [],
   "source": [
    "from sklearn.preprocessing import MinMaxScaler\n",
    "from collections import Counter"
   ]
  },
  {
   "cell_type": "code",
   "execution_count": 86,
   "metadata": {},
   "outputs": [
    {
     "data": {
      "text/plain": [
       "(0.0, 1.0)"
      ]
     },
     "execution_count": 86,
     "metadata": {},
     "output_type": "execute_result"
    }
   ],
   "source": [
    "scaler = MinMaxScaler()\n",
    "data = scaler.fit_transform(data)\n",
    "np.min(data[:,0]), np.max(data[:,0])"
   ]
  },
  {
   "cell_type": "markdown",
   "metadata": {},
   "source": [
    "## Ajusta labels"
   ]
  },
  {
   "cell_type": "code",
   "execution_count": 87,
   "metadata": {},
   "outputs": [],
   "source": [
    "from sklearn.preprocessing import LabelEncoder"
   ]
  },
  {
   "cell_type": "code",
   "execution_count": 88,
   "metadata": {},
   "outputs": [],
   "source": [
    "encoder = LabelEncoder()\n",
    "encoded_labels = pd.Series(encoder.fit_transform(labels))\n",
    "encoded_labels[encoded_labels == 0] = -1"
   ]
  },
  {
   "cell_type": "markdown",
   "metadata": {},
   "source": [
    "# TREINAMENTO"
   ]
  },
  {
   "cell_type": "code",
   "execution_count": 47,
   "metadata": {},
   "outputs": [],
   "source": [
    "from sklearn.model_selection import KFold\n",
    "from sklearn.metrics import accuracy_score, recall_score, precision_score\n",
    "from sklearn.utils import resample\n",
    "from sklearn.model_selection import train_test_split\n",
    "from sklearn.utils import shuffle\n",
    "from sklearn.svm import SVC\n",
    "from sklearn.datasets import load_breast_cancer\n",
    "from sklearn.model_selection import train_test_split\n",
    "from tqdm import tqdm_notebook\n",
    "from sklearn.metrics import mean_squared_error, accuracy_score\n",
    "from math import sqrt"
   ]
  },
  {
   "cell_type": "markdown",
   "metadata": {},
   "source": [
    "## Funções"
   ]
  },
  {
   "cell_type": "code",
   "execution_count": 78,
   "metadata": {},
   "outputs": [],
   "source": [
    "def vizinhanca_variavel(gamma, C, tamanho):\n",
    "    \n",
    "    gamma_copy = copy.copy(gamma)\n",
    "    C_copy = copy.copy(C)\n",
    "    \n",
    "    fator_comp = tamanho / 2\n",
    "\n",
    "    gamma = gamma + (tamanho * np.random.rand() - fator_comp) * gamma\n",
    "    C = C + (tamanho * np.random.rand() - fator_comp) * C\n",
    "    \n",
    "    while gamma <= 0 or C <= 0:\n",
    "        gamma = gamma_copy\n",
    "        C = C_copy\n",
    "        gamma = gamma + (tamanho * np.random.rand() - fator_comp) * gamma\n",
    "        C = C + (tamanho * np.random.rand() - fator_comp) * C\n",
    "        \n",
    "    return gamma, C"
   ]
  },
  {
   "cell_type": "code",
   "execution_count": 119,
   "metadata": {},
   "outputs": [],
   "source": [
    "def vizinhanca_local(gamma, C):\n",
    "    \n",
    "    gamma_copy = copy.copy(gamma)\n",
    "    C_copy = copy.copy(C)\n",
    "    \n",
    "    gamma = gamma + (2 * np.random.rand() - 1) * gamma\n",
    "    C = C + (2 * np.random.rand() - 1) * C\n",
    "    \n",
    "    while gamma <= 0 or C <= 0:\n",
    "        gamma = gamma_copy\n",
    "        C = C_copy\n",
    "        gamma = gamma + (2 * np.random.rand() - 1) * gamma\n",
    "        C = C + (2 * np.random.rand() - 1) * C\n",
    "        \n",
    "    return gamma, C"
   ]
  },
  {
   "cell_type": "code",
   "execution_count": 120,
   "metadata": {},
   "outputs": [],
   "source": [
    "def f(y_true, y_pred):\n",
    "    \n",
    "    return sqrt(mean_squared_error(y_true, y_pred))"
   ]
  },
  {
   "cell_type": "code",
   "execution_count": 121,
   "metadata": {},
   "outputs": [],
   "source": [
    "kf = KFold(n_splits=10)\n",
    "random_state=42"
   ]
  },
  {
   "cell_type": "code",
   "execution_count": 122,
   "metadata": {},
   "outputs": [],
   "source": [
    "def VNS(gamma_inicial, C_inicial, N_max, max_iter):\n",
    "    curr_fold = 1\n",
    "\n",
    "    for train_index, test_index in kf.split(data):\n",
    "\n",
    "        X_train, X_test = data[train_index], data[test_index]\n",
    "        y_train, y_test = encoded_labels[train_index], encoded_labels[test_index]\n",
    "\n",
    "        print('Validação Cruzada - Fold {}'.format(curr_fold))\n",
    "        print('Conjunto de treinamento - Dados {} - {}'.format(X_train.shape, y_train.shape))\n",
    "        print('Conjunto de teste - Dados {} - {}'.format(X_test.shape, y_test.shape))\n",
    "        print('____________________________________________________________________________')\n",
    "\n",
    "        X_test, X_val, y_test, y_val = train_test_split(X_test, y_test, test_size=0.3, random_state=random_state)\n",
    "\n",
    "        gamma = gamma_inicial\n",
    "        C = C_inicial\n",
    "               \n",
    "        svm_s = SVC(gamma=gamma, C=C)\n",
    "        svm_s = svm_s.fit(X_train, y_train)\n",
    "        y_pred_s = svm_s.predict(X_val)\n",
    "        f_s = f(y_val, y_pred_s)\n",
    "\n",
    "        melhor_f = f_s\n",
    "        melhor_gamma = gamma\n",
    "        melhor_C = C\n",
    "\n",
    "        for i in range(max_iter):\n",
    "            n = 1\n",
    "            while n < N_max :\n",
    "                gamma_s1, C_s1 = vizinhanca_variavel(melhor_gamma, melhor_C, n)\n",
    "                gamma_s2, C_s2 = vizinhanca_local(gamma_s1, C_s1)\n",
    "                \n",
    "                svm_s2 = SVC(gamma=gamma_s2, C=C_s2)\n",
    "                svm_s2 = svm_s2.fit(X_train, y_train)\n",
    "                y_pred_s2 = svm_s2.predict(X_val)\n",
    "                f_s2 = f(y_val, y_pred_s2)\n",
    "                \n",
    "                if f_s2 < melhor_f:\n",
    "                    melhor_f = f_s2\n",
    "                    melhor_gamma = gamma_s2\n",
    "                    melhor_C = C_s2\n",
    "                    n = 1\n",
    "                else:                    \n",
    "                    n += 1\n",
    "\n",
    "\n",
    "        print('VNS terminado!\\n')\n",
    "        print('Melhor loss: {}'.format(melhor_f))\n",
    "        print('Melhor gamma: {}'.format(melhor_gamma))\n",
    "        print('Melhor C: {}'.format(melhor_C))\n",
    "\n",
    "        print('Treinando modelo final....')\n",
    "        final_svm = SVC(gamma=melhor_gamma, C=melhor_C)\n",
    "        final_svm = final_svm.fit(X_train, y_train)\n",
    "        print('Avaliando acurácia no conjunto de teste...')\n",
    "        accuracy = final_svm.score(X_test, y_test)\n",
    "        print('Acurácia: {}'.format(accuracy))\n",
    "\n",
    "        curr_fold +=1\n",
    "\n",
    "        print('############################################################################')\n",
    "        \n",
    "    return final_svm"
   ]
  },
  {
   "cell_type": "code",
   "execution_count": 124,
   "metadata": {},
   "outputs": [
    {
     "name": "stdout",
     "output_type": "stream",
     "text": [
      "Validação Cruzada - Fold 1\n",
      "Conjunto de treinamento - Dados (187, 60) - (187,)\n",
      "Conjunto de teste - Dados (21, 60) - (21,)\n",
      "____________________________________________________________________________\n",
      "VNS terminado!\n",
      "\n",
      "Melhor loss: 1.0690449676496976\n",
      "Melhor gamma: 0.15292456475141689\n",
      "Melhor C: 16.96119911137867\n",
      "Treinando modelo final....\n",
      "Avaliando acurácia no conjunto de teste...\n",
      "Acurácia: 0.42857142857142855\n",
      "############################################################################\n",
      "Validação Cruzada - Fold 2\n",
      "Conjunto de treinamento - Dados (187, 60) - (187,)\n",
      "Conjunto de teste - Dados (21, 60) - (21,)\n",
      "____________________________________________________________________________\n",
      "VNS terminado!\n",
      "\n",
      "Melhor loss: 0.0\n",
      "Melhor gamma: 0.06591415427435868\n",
      "Melhor C: 25.932541806124064\n",
      "Treinando modelo final....\n",
      "Avaliando acurácia no conjunto de teste...\n",
      "Acurácia: 0.7857142857142857\n",
      "############################################################################\n",
      "Validação Cruzada - Fold 3\n",
      "Conjunto de treinamento - Dados (187, 60) - (187,)\n",
      "Conjunto de teste - Dados (21, 60) - (21,)\n",
      "____________________________________________________________________________\n",
      "VNS terminado!\n",
      "\n",
      "Melhor loss: 1.0690449676496976\n",
      "Melhor gamma: 0.1\n",
      "Melhor C: 10\n",
      "Treinando modelo final....\n",
      "Avaliando acurácia no conjunto de teste...\n",
      "Acurácia: 0.42857142857142855\n",
      "############################################################################\n",
      "Validação Cruzada - Fold 4\n",
      "Conjunto de treinamento - Dados (187, 60) - (187,)\n",
      "Conjunto de teste - Dados (21, 60) - (21,)\n",
      "____________________________________________________________________________\n",
      "VNS terminado!\n",
      "\n",
      "Melhor loss: 0.0\n",
      "Melhor gamma: 0.09467847455254369\n",
      "Melhor C: 25.127073399201056\n",
      "Treinando modelo final....\n",
      "Avaliando acurácia no conjunto de teste...\n",
      "Acurácia: 0.5714285714285714\n",
      "############################################################################\n",
      "Validação Cruzada - Fold 5\n",
      "Conjunto de treinamento - Dados (187, 60) - (187,)\n",
      "Conjunto de teste - Dados (21, 60) - (21,)\n",
      "____________________________________________________________________________\n",
      "VNS terminado!\n",
      "\n",
      "Melhor loss: 1.0690449676496976\n",
      "Melhor gamma: 0.1\n",
      "Melhor C: 10\n",
      "Treinando modelo final....\n",
      "Avaliando acurácia no conjunto de teste...\n",
      "Acurácia: 0.6428571428571429\n",
      "############################################################################\n",
      "Validação Cruzada - Fold 6\n",
      "Conjunto de treinamento - Dados (187, 60) - (187,)\n",
      "Conjunto de teste - Dados (21, 60) - (21,)\n",
      "____________________________________________________________________________\n",
      "VNS terminado!\n",
      "\n",
      "Melhor loss: 1.6903085094570331\n",
      "Melhor gamma: 0.017660085836040347\n",
      "Melhor C: 3.387348798622322\n",
      "Treinando modelo final....\n",
      "Avaliando acurácia no conjunto de teste...\n",
      "Acurácia: 0.42857142857142855\n",
      "############################################################################\n",
      "Validação Cruzada - Fold 7\n",
      "Conjunto de treinamento - Dados (187, 60) - (187,)\n",
      "Conjunto de teste - Dados (21, 60) - (21,)\n",
      "____________________________________________________________________________\n",
      "VNS terminado!\n",
      "\n",
      "Melhor loss: 1.0690449676496976\n",
      "Melhor gamma: 0.23080723770566447\n",
      "Melhor C: 0.5126711033070261\n",
      "Treinando modelo final....\n",
      "Avaliando acurácia no conjunto de teste...\n",
      "Acurácia: 0.7142857142857143\n",
      "############################################################################\n",
      "Validação Cruzada - Fold 8\n",
      "Conjunto de treinamento - Dados (187, 60) - (187,)\n",
      "Conjunto de teste - Dados (21, 60) - (21,)\n",
      "____________________________________________________________________________\n",
      "VNS terminado!\n",
      "\n",
      "Melhor loss: 1.3093073414159542\n",
      "Melhor gamma: 0.1\n",
      "Melhor C: 10\n",
      "Treinando modelo final....\n",
      "Avaliando acurácia no conjunto de teste...\n",
      "Acurácia: 0.5\n",
      "############################################################################\n",
      "Validação Cruzada - Fold 9\n",
      "Conjunto de treinamento - Dados (188, 60) - (188,)\n",
      "Conjunto de teste - Dados (20, 60) - (20,)\n",
      "____________________________________________________________________________\n",
      "VNS terminado!\n",
      "\n",
      "Melhor loss: 1.1547005383792515\n",
      "Melhor gamma: 0.004087871286911154\n",
      "Melhor C: 10.291748983637236\n",
      "Treinando modelo final....\n",
      "Avaliando acurácia no conjunto de teste...\n",
      "Acurácia: 0.7857142857142857\n",
      "############################################################################\n",
      "Validação Cruzada - Fold 10\n",
      "Conjunto de treinamento - Dados (188, 60) - (188,)\n",
      "Conjunto de teste - Dados (20, 60) - (20,)\n",
      "____________________________________________________________________________\n",
      "VNS terminado!\n",
      "\n",
      "Melhor loss: 0.816496580927726\n",
      "Melhor gamma: 0.2469659121736373\n",
      "Melhor C: 16.844062384499168\n",
      "Treinando modelo final....\n",
      "Avaliando acurácia no conjunto de teste...\n",
      "Acurácia: 0.7857142857142857\n",
      "############################################################################\n"
     ]
    }
   ],
   "source": [
    "final_svm = VNS(0.1,10,4,15)"
   ]
  },
  {
   "cell_type": "code",
   "execution_count": null,
   "metadata": {},
   "outputs": [],
   "source": []
  },
  {
   "cell_type": "code",
   "execution_count": null,
   "metadata": {},
   "outputs": [],
   "source": []
  }
 ],
 "metadata": {
  "kernelspec": {
   "display_name": "Python 3",
   "language": "python",
   "name": "python3"
  },
  "language_info": {
   "codemirror_mode": {
    "name": "ipython",
    "version": 3
   },
   "file_extension": ".py",
   "mimetype": "text/x-python",
   "name": "python",
   "nbconvert_exporter": "python",
   "pygments_lexer": "ipython3",
   "version": "3.7.3"
  }
 },
 "nbformat": 4,
 "nbformat_minor": 2
}
